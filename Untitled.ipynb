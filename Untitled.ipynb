{
 "cells": [
  {
   "cell_type": "markdown",
   "metadata": {},
   "source": [
    "## Chapter 3 Random Variables Etc"
   ]
  },
  {
   "cell_type": "code",
   "execution_count": 7,
   "metadata": {},
   "outputs": [],
   "source": [
    "from scipy.misc import comb\n",
    "#calculate binomial distribution probability that a threshold will be met\n",
    "def bin_thresh_p(thresh, n, pa):\n",
    "    res = 0.0\n",
    "    for i in range(thresh, n+1):\n",
    "        res = res + pow(pa,i)*pow(1-pa,n-i)*comb(n, i)\n",
    "    return res\n"
   ]
  },
  {
   "cell_type": "code",
   "execution_count": 8,
   "metadata": {},
   "outputs": [
    {
     "name": "stdout",
     "output_type": "stream",
     "text": [
      "0.9814652388\n"
     ]
    }
   ],
   "source": [
    "print(bin_thresh_p(8, 11, .90))"
   ]
  },
  {
   "cell_type": "code",
   "execution_count": 10,
   "metadata": {},
   "outputs": [
    {
     "name": "stdout",
     "output_type": "stream",
     "text": [
      "0.84\n"
     ]
    }
   ],
   "source": [
    "print(bin_thresh_p(1,2,.6))"
   ]
  },
  {
   "cell_type": "code",
   "execution_count": 19,
   "metadata": {
    "collapsed": true
   },
   "outputs": [],
   "source": [
    "#calculate binomial distribution probability for k1 k2, p1 p2 with \n",
    "#a third option\n",
    "#exercise 3.2.18\n",
    "from math import factorial\n",
    "def bin_thresh_2var_p(n, k1, k2, p1, p2):\n",
    "    p_seq = pow(p1,k1)*pow(p2,k2)*pow(1-p1-p2, n-k1-k2)\n",
    "    num_comb = comb(n, k1 + k2)*comb(k1 + k2, k1)\n",
    "    return p_seq * num_comb"
   ]
  },
  {
   "cell_type": "code",
   "execution_count": 20,
   "metadata": {},
   "outputs": [
    {
     "name": "stdout",
     "output_type": "stream",
     "text": [
      "0.030618\n"
     ]
    }
   ],
   "source": [
    "print(bin_thresh_2var_p(10,3,5,.5,.3))"
   ]
  },
  {
   "cell_type": "code",
   "execution_count": 15,
   "metadata": {},
   "outputs": [
    {
     "data": {
      "text/plain": [
       "0.00054674999999999993"
      ]
     },
     "execution_count": 15,
     "metadata": {},
     "output_type": "execute_result"
    }
   ],
   "source": [
    "pow(.5,3)*pow(.3,5)*pow(1-.5-.3,10-5-3)*comb(10,3+5)"
   ]
  },
  {
   "cell_type": "markdown",
   "metadata": {},
   "source": [
    "answer .031"
   ]
  }
 ],
 "metadata": {
  "kernelspec": {
   "display_name": "Python 2",
   "language": "python",
   "name": "python2"
  },
  "language_info": {
   "codemirror_mode": {
    "name": "ipython",
    "version": 2
   },
   "file_extension": ".py",
   "mimetype": "text/x-python",
   "name": "python",
   "nbconvert_exporter": "python",
   "pygments_lexer": "ipython2",
   "version": "2.7.13"
  }
 },
 "nbformat": 4,
 "nbformat_minor": 2
}
